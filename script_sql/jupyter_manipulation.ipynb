{
 "cells": [
  {
   "cell_type": "code",
   "execution_count": null,
   "id": "ba9a2af0-6515-4483-ac68-95803b75b68f",
   "metadata": {},
   "outputs": [],
   "source": [
    "import pandas as pd\n",
    "import os "
   ]
  },
  {
   "cell_type": "code",
   "execution_count": null,
   "id": "c6306fe7",
   "metadata": {},
   "outputs": [],
   "source": [
    "# Importation des données--> Trade in Low ...\n",
    "df = pd.read_csv(\"./data/Trade_in_Low_Carbon_Technology_Products.csv\")"
   ]
  },
  {
   "cell_type": "code",
   "execution_count": null,
   "id": "886659ca-b7ec-44e9-848d-b01130bad5d1",
   "metadata": {},
   "outputs": [],
   "source": [
    "# Liste des colonnes fixes\n",
    "id_vars = list(df.columns[:12])\n",
    "\n",
    "# On enlève les 'F' de FXXXX\n",
    "df.columns = id_vars + [\"1994\",\"1995\", \"1996\",\"1997\",\"1998\",\"1999\",\"2000\",\"2001\",\"2002\",\"2003\",\"2004\",\"2005\",\"2006\",\"2007\",\"2008\",\"2009\",\"2010\",\"2011\",\"2012\",\"2013\",\"2014\",\"2015\",\"2016\",\"2017\",\"2018\",\"2019\",\"2020\",\"2021\",\"2022\",\"2023\"]\n",
    "\n",
    "# On dépivote\n",
    "df_unpivot = df.set_index(keys = id_vars).stack()\n",
    "df_unpivot = df_unpivot.reset_index()\n",
    "\n",
    "# On renomme correctement les colonnes finales\n",
    "df_unpivot.columns = id_vars + ['Year', 'Trade_Value']"
   ]
  },
  {
   "cell_type": "code",
   "execution_count": null,
   "id": "ec17ad3b-d025-4731-8853-ab90064aee44",
   "metadata": {},
   "outputs": [
    {
     "name": "stdout",
     "output_type": "stream",
     "text": [
      "Fichier créé avec succès à l'adresse suivante : test.csv\n"
     ]
    }
   ],
   "source": [
    "# Sauvegarde du résultat final dans un nouveau fichier CSV (format long)\n",
    "output_path = \"test.csv\"\n",
    "df_unpivot.to_csv(output_path, index = False)\n",
    "\n",
    "# Vérification de la création du fichier\n",
    "if os.path.exists(output_path):\n",
    "    print(\"Fichier créé avec succès à l'adresse suivante :\", output_path)\n",
    "else:\n",
    "    print(\"Échec de la création du fichier :\", output_path)"
   ]
  },
  {
   "cell_type": "code",
   "execution_count": null,
   "id": "3c61bfb3-d834-466e-b3e9-5e31b4c1ef28",
   "metadata": {},
   "outputs": [],
   "source": [
    "# Importation des données--> Bilateral Trade\n",
    "df2 = pd.read_csv(\"./data/Bilateral_Trade_in_Low_Carbon_Technology_Products.csv\")"
   ]
  },
  {
   "cell_type": "code",
   "execution_count": null,
   "id": "d052e23f-7ac2-4fc1-8a86-d1a2b9295a84",
   "metadata": {},
   "outputs": [],
   "source": [
    "# Liste des colonnes fixes\n",
    "id_vars2 = list(df2.columns[:15])\n",
    "\n",
    "# On enlève les 'F' de FXXXX\n",
    "df2.columns = id_vars2 + [\"1994\",\"1995\", \"1996\",\"1997\",\"1998\",\"1999\",\"2000\",\"2001\",\"2002\",\"2003\",\"2004\",\"2005\",\"2006\",\"2007\",\"2008\",\"2009\",\"2010\",\"2011\",\"2012\",\"2013\",\"2014\",\"2015\",\"2016\",\"2017\",\"2018\",\"2019\",\"2020\",\"2021\",\"2022\",\"2023\"]\n",
    "\n",
    "# On dépivote\n",
    "df_unpivot2 = df2.set_index(keys = id_vars2).stack()\n",
    "df_unpivot2 = df_unpivot2.reset_index()\n",
    "\n",
    "# On renommer correctement les colonnes finales\n",
    "df_unpivot2.columns = id_vars2 + ['Year', 'Trade_Value']"
   ]
  },
  {
   "cell_type": "code",
   "execution_count": null,
   "id": "73bce2b6-821e-4a68-86eb-773e2ba47693",
   "metadata": {},
   "outputs": [
    {
     "name": "stdout",
     "output_type": "stream",
     "text": [
      "Fichier créé avec succès à l'adresse suivante : test2.csv\n"
     ]
    }
   ],
   "source": [
    "# Sauvegarde du résultat final dans un nouveau fichier CSV (format long)\n",
    "output_path = \"test2.csv\"\n",
    "df_unpivot2.to_csv(output_path, index = False)\n",
    "\n",
    "# Vérification de la création du fichier\n",
    "if os.path.exists(output_path):\n",
    "    print(\"Fichier créé avec succès à l'adresse suivante :\", output_path)\n",
    "else:\n",
    "    print(\"Échec de la création du fichier :\", output_path)"
   ]
  }
 ],
 "metadata": {
  "kernelspec": {
   "display_name": "Python 3 (ipykernel)",
   "language": "python",
   "name": "python3"
  },
  "language_info": {
   "codemirror_mode": {
    "name": "ipython",
    "version": 3
   },
   "file_extension": ".py",
   "mimetype": "text/x-python",
   "name": "python",
   "nbconvert_exporter": "python",
   "pygments_lexer": "ipython3",
   "version": "3.13.3"
  }
 },
 "nbformat": 4,
 "nbformat_minor": 5
}
